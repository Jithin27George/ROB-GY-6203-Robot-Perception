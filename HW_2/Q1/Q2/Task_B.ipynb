{
 "cells": [
  {
   "cell_type": "markdown",
   "metadata": {},
   "source": [
    "### Task 2. ICP (4pt)\n",
    "\n",
    "In this task, you are required to align two point clouds (source and target) using the Iterative Closest Point (ICP) algorithm discussed in class. The task consists of two parts.\n",
    "\n",
    "\n",
    "\n",
    "#### Part b) (2pt)\n",
    "\n",
    "You have been given two point clouds from the KITTI dataset, one of the benchmark datasets used in the self-driving domain. The point clouds are located in the `data/Task2` folder under the Overleaf project: [https://www.overleaf.com/read/fzhnnqsqrnbz](https://www.overleaf.com/read/fzhnnqsqrnbz).\n",
    "\n",
    "#### Task:\n",
    "1. Repeat part 1 using these two point clouds.\n",
    "2. Compare the results from part 1 with the results from part 2.\n",
    "\n",
    "#### Questions:\n",
    "- Are the point clouds in part 2 aligning properly?\n",
    "- If not, explain why.\n",
    "\n",
    "#### Deliverables:\n",
    "- Provide the visualizations for both parts in your answer.\n",
    "\n"
   ]
  },
  {
   "cell_type": "code",
   "execution_count": 63,
   "metadata": {},
   "outputs": [],
   "source": [
    "# Import Necessary Libraries\n",
    "import open3d as o3d\n",
    "import copy\n",
    "import numpy as np\n",
    "import matplotlib.pyplot as plt\n",
    "from sklearn.neighbors import NearestNeighbors"
   ]
  },
  {
   "cell_type": "markdown",
   "metadata": {},
   "source": [
    "<span style=\"color: red;\">**Note:**</span> If you use the ICP API in existing libraries instead of your own implementation, you will only get 60% of the total score.\n",
    "__________________________________________________________________________________________________________________________________________\n",
    "Lets understand a sample point cloud from Open3D's data repository"
   ]
  },
  {
   "cell_type": "code",
   "execution_count": 54,
   "metadata": {},
   "outputs": [],
   "source": [
    "# Loading data\n",
    "demo_icp_pcds = o3d.data.DemoICPPointClouds()\n",
    "source = o3d.io.read_point_cloud(\"kitti_frame1.pcd\")\n",
    "target = o3d.io.read_point_cloud(\"kitti_frame2.pcd\")"
   ]
  },
  {
   "cell_type": "code",
   "execution_count": 55,
   "metadata": {},
   "outputs": [],
   "source": [
    "# No. of tests\n",
    "N=100\n",
    "# Initial transformation matrix (4x4 homogeneous)\n",
    "trans_init = np.asarray([\n",
    "    [0.862,  0.011, -0.507,  0.5],\n",
    "    [-0.139, 0.967, -0.215,  0.7],\n",
    "    [0.487,  0.255,  0.835, -1.4],\n",
    "    [0.0,    0.0,    0.0,    1.0]\n",
    "])\n",
    "\n",
    "# Apply the initial transformation to the source point cloud\n",
    "source = source.transform(trans_init)"
   ]
  },
  {
   "cell_type": "code",
   "execution_count": 56,
   "metadata": {},
   "outputs": [],
   "source": [
    "# Convert Open3D point clouds to NumPy arrays for processing\n",
    "my_target = np.asarray(target.points)\n",
    "my_source = np.asarray(source.points[:my_target.shape[0]])"
   ]
  },
  {
   "cell_type": "code",
   "execution_count": 57,
   "metadata": {},
   "outputs": [],
   "source": [
    "def best_fit_transform(A, B):\n",
    "    \"\"\"\n",
    "    Calculates the least-squares best-fit transform that maps points A to B.\n",
    "    Returns the homogeneous transformation matrix, rotation matrix, and translation vector.\n",
    "    \"\"\"\n",
    "    \n",
    "    scalar = A.shape[1]\n",
    "    A = A.T\n",
    "    B = B.T \n",
    "    centroid_A = (np.mean(A, axis=1)).reshape(-1, 1)\n",
    "    centroid_B = (np.mean(B, axis=1)).reshape(-1, 1)\n",
    "    \n",
    "    A_centered = A - centroid_A\n",
    "    B_centered = B - centroid_B\n",
    "\n",
    "    H = A_centered @ B_centered.T\n",
    "    U, _ , Vt = np.linalg.svd(H)\n",
    "    R = Vt.T @ U.T\n",
    "\n",
    "    t = centroid_B - R @ centroid_A\n",
    "\n",
    "    # Homogeneous transformation\n",
    "    T = np.identity(scalar + 1)\n",
    "    T[:scalar, :scalar] = R\n",
    "    T[:scalar, scalar] = t.T\n",
    "\n",
    "    return T, R, t"
   ]
  },
  {
   "cell_type": "code",
   "execution_count": 58,
   "metadata": {},
   "outputs": [],
   "source": [
    "def nearest_neighbor(src, dst_kdtree):\n",
    "    \"\"\"\n",
    "    Finds the nearest (Euclidean) neighbor in dst for each point in src using Open3D's KDTree.\n",
    "    Returns distances and indices of the nearest neighbors.\n",
    "    \"\"\"\n",
    "    assert src.shape == dst_kdtree.shape\n",
    "    neigh = NearestNeighbors(n_neighbors=1)\n",
    "    neigh.fit(dst_kdtree)\n",
    "    distances, indices = neigh.kneighbors(src, return_distance=True)\n",
    "    return distances.ravel(), indices.ravel()"
   ]
  },
  {
   "cell_type": "code",
   "execution_count": 59,
   "metadata": {},
   "outputs": [],
   "source": [
    "def icp(A, B, init_pose=None, max_iterations=20, tolerance=1e-4):\n",
    "    \"\"\"\n",
    "    Performs the Iterative Closest Point algorithm to align point cloud A to point cloud B.\n",
    "    Returns the final transformation matrix, distances, and number of iterations.\n",
    "    \"\"\"\n",
    "    assert A.shape == B.shape\n",
    "    m = A.shape[1]\n",
    "    # make points homogeneous, copy them to maintain the originals\n",
    "    src = np.ones((m+1, A.shape[0]))\n",
    "    dst = np.ones((m+1, B.shape[0]))\n",
    "    src[:m, :] = np.copy(A.T)\n",
    "    dst[:m, :] = np.copy(B.T)\n",
    "    \n",
    "   \n",
    "    if init_pose is not None:\n",
    "        src = np.dot(init_pose, src)\n",
    "\n",
    "    prev_error = 0\n",
    "\n",
    "    for i in range(max_iterations):\n",
    "        \n",
    "        distances, indices = nearest_neighbor(src[:m, :].T, dst[:m, :].T)\n",
    "        T, _, _ = best_fit_transform(src[:m, :].T, dst[:m, indices].T)\n",
    "        src = np.dot(T, src)  # update the current source\n",
    "        mean_error = np.mean(distances) # check error\n",
    "        if np.abs(prev_error - mean_error) < tolerance:\n",
    "            break\n",
    "        prev_error = mean_error\n",
    "    T, _, _ = best_fit_transform(A, src[:m, :].T)  # calculating final transformation\n",
    "\n",
    "    return T"
   ]
  },
  {
   "cell_type": "code",
   "execution_count": 60,
   "metadata": {},
   "outputs": [],
   "source": [
    "def perform_icp( num_tests=100):\n",
    "    \"\"\"\n",
    "    Performs ICP multiple times and returns the best transformation.\n",
    "    \"\"\"\n",
    "    A = my_source\n",
    "    for i in range(num_tests):\n",
    "        B = my_target        \n",
    "        best_T= icp(B, A, tolerance=0.1)\n",
    "    print(best_T)\n",
    "    return best_T"
   ]
  },
  {
   "cell_type": "code",
   "execution_count": 61,
   "metadata": {},
   "outputs": [],
   "source": [
    "def draw_registration_result(source, target, transformation):\n",
    "    \"\"\"\n",
    "    Visualizes the aligned source and target point clouds.\n",
    "    \"\"\"\n",
    "    source_temp = copy.deepcopy(source)\n",
    "    target_temp = copy.deepcopy(target)\n",
    "    source_temp.paint_uniform_color([1, 0.706, 0])      # Orange\n",
    "    target_temp.paint_uniform_color([0, 0.651, 0.929]) # Blue\n",
    "    source_temp.transform(transformation)\n",
    "    o3d.visualization.draw_geometries(\n",
    "        [source_temp, target_temp],\n",
    "        zoom=0.4459,\n",
    "        front=[0.9288, -0.2951, -0.2242],\n",
    "        lookat=[1.6784, 2.0612, 1.4451],\n",
    "        up=[-0.3402, -0.9189, -0.1996]\n",
    "    )"
   ]
  },
  {
   "cell_type": "code",
   "execution_count": 62,
   "metadata": {},
   "outputs": [
    {
     "name": "stdout",
     "output_type": "stream",
     "text": [
      "[[ 0.86172422  0.00801914 -0.50731357  0.85449981]\n",
      " [-0.12732146  0.9712993  -0.20091519  0.75133892]\n",
      " [ 0.49114215  0.23772539  0.83801314 -1.3183118 ]\n",
      " [ 0.          0.          0.          1.        ]]\n"
     ]
    }
   ],
   "source": [
    "# Perform ICP\n",
    "transformation = perform_icp(N)\n",
    "\n",
    "# Visualize the result\n",
    "draw_registration_result(target, source,  transformation)\n"
   ]
  },
  {
   "cell_type": "code",
   "execution_count": 66,
   "metadata": {},
   "outputs": [
    {
     "name": "stdout",
     "output_type": "stream",
     "text": [
      "Visualization saved as aligned_result_T2b.png\n"
     ]
    },
    {
     "data": {
      "image/png": "[encoded data removed]",
      "text/plain": [
       "<Figure size 640x480 with 1 Axes>"
      ]
     },
     "metadata": {},
     "output_type": "display_data"
    }
   ],
   "source": [
    "def save_visualization(source, target, transformation, save_path=\"aligned_result.png\"):\n",
    "    \"\"\"\n",
    "    Saves a visualization of the aligned source and target point clouds.\n",
    "    \n",
    "    Args:\n",
    "        source (o3d.geometry.PointCloud): Source point cloud.\n",
    "        target (o3d.geometry.PointCloud): Target point cloud.\n",
    "        transformation (np.ndarray): 4x4 transformation matrix aligning source to target.\n",
    "        save_path (str): Path to save the visualization image.\n",
    "    \"\"\"\n",
    "    # Deepcopy to avoid modifying original point clouds\n",
    "    source_temp = copy.deepcopy(source)\n",
    "    target_temp = copy.deepcopy(target)\n",
    "    \n",
    "    # Apply colors for distinction\n",
    "    source_temp.paint_uniform_color([1, 0.706, 0])      # Orange for source\n",
    "    target_temp.paint_uniform_color([0, 0.651, 0.929]) # Blue for target\n",
    "    \n",
    "    # Transform the source point cloud\n",
    "    source_temp.transform(transformation)\n",
    "    \n",
    "    # Initialize the visualizer\n",
    "    vis = o3d.visualization.Visualizer()\n",
    "    vis.create_window(visible=False)  # Run visualization in the background\n",
    "    \n",
    "    # Add geometries\n",
    "    vis.add_geometry(source_temp)\n",
    "    vis.add_geometry(target_temp)\n",
    "    \n",
    "    # Configure view parameters for a better result\n",
    "    ctr = vis.get_view_control()\n",
    "    ctr.set_zoom(0.4459)\n",
    "    ctr.set_front([0.9288, -0.2951, -0.2242])\n",
    "    ctr.set_lookat([1.6784, 2.0612, 1.4451])\n",
    "    ctr.set_up([-0.3402, -0.9189, -0.1996])\n",
    "    \n",
    "    # Capture the screen\n",
    "    vis.poll_events()\n",
    "    vis.update_renderer()\n",
    "    vis.capture_screen_image(save_path)\n",
    "    vis.destroy_window()\n",
    "    print(f\"Visualization saved as {save_path}\")\n",
    "    \n",
    "# Save and display the visualization\n",
    "save_path = \"aligned_result_T2b.png\"\n",
    "save_visualization(target,source, transformation, save_path)\n",
    "\n",
    "# Display the saved image\n",
    "img = plt.imread(save_path)\n",
    "plt.imshow(img)\n",
    "plt.axis(\"off\")  # Turn off axes for a clean image\n",
    "plt.show()\n"
   ]
  }
 ],
 "metadata": {
  "kernelspec": {
   "display_name": ".venv",
   "language": "python",
   "name": "python3"
  },
  "language_info": {
   "codemirror_mode": {
    "name": "ipython",
    "version": 3
   },
   "file_extension": ".py",
   "mimetype": "text/x-python",
   "name": "python",
   "nbconvert_exporter": "python",
   "pygments_lexer": "ipython3",
   "version": "3.10.12"
  }
 },
 "nbformat": 4,
 "nbformat_minor": 2
}
